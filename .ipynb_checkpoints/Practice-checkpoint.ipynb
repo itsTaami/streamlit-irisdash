{
 "cells": [
  {
   "cell_type": "code",
   "execution_count": 1,
   "id": "d5895f58-8548-4075-9530-a1192a3a0dd9",
   "metadata": {
    "tags": []
   },
   "outputs": [
    {
     "name": "stdout",
     "output_type": "stream",
     "text": [
      "Requirement already satisfied: joblib in c:\\users\\pc\\appdata\\roaming\\jupyterlab-desktop\\jlab_server\\lib\\site-packages (1.5.2)\n"
     ]
    }
   ],
   "source": [
    "!pip install joblib"
   ]
  },
  {
   "cell_type": "code",
   "execution_count": null,
   "id": "7eefd530-f0d5-4d5d-bb8c-9dbeae5c4bf8",
   "metadata": {},
   "outputs": [],
   "source": [
    "!streamlit hello"
   ]
  },
  {
   "cell_type": "markdown",
   "id": "aeb2d24a-d3dd-4a3f-bb2c-efea0870fc19",
   "metadata": {
    "tags": []
   },
   "source": [
    "### Exercise: Create a web app to predict `Iris` flower\n",
    "* Create input fields where a user can enter flower attributes.\n",
    "  * Inputs are in *centimeters*: `sepal length`, `sepal width`, `petal length`, and `petal width`, \n",
    "  * Inputs can not be greater than 15 or negative number.\n",
    "* Create a button to get the inputs and predict\n",
    "* Use the inputs to predict a flower type.\n",
    "  The model was exported with the `joblib` library, and you can use the following code to load the model:\n",
    "\n",
    "  ``` python\n",
    "  # import the load method from joblib\n",
    "  from joblib import load\n",
    "\n",
    "  model = load('data/iris_model.joblib')\n",
    "\n",
    "  # Inference code. \n",
    "  # The input array is in double brackets because it is 1 dimensional\n",
    "  prediction = model.predict([[1,2,3,4]])\n",
    "  ```\n",
    "\n",
    "  The prediction will be an array with an integer value, which is the predicted class. They are as follows:\n",
    "  - 0: Iris Setosa\n",
    "  - 1: Iris Versicolour\n",
    "  - 2: Iris Virginica\n",
    "  \n",
    "  For your own reference here are the four input variables and their common ranges. These are listed by position of their input. \n",
    "  - 0: sepal length in cm\n",
    "  - 1: sepal width in cm\n",
    "  - 2: petal length in cm\n",
    "  - 3: petal width in cm\n",
    "\n",
    "* Output a predicted flower type as an image. Use the images from `images` folder.\n",
    "\n",
    "![setosa](images/iris_setosa.png)\n",
    "![setosa](images/iris_versicolor.png)\n",
    "![setosa](images/iris_virginica.png)\n",
    "\n",
    "#### Streamlit documentation: https://docs.streamlit.io/library/api-reference\n",
    "\n"
   ]
  },
  {
   "cell_type": "markdown",
   "id": "76bf1c3e-a103-411a-8ecd-f85426dba5b4",
   "metadata": {},
   "source": [
    "### Exercise\n",
    "* Make 2 columns using `st.columns`\n",
    "  * Put sepal inputs in the first column\n",
    "  * Put petal inputs in the second column\n",
    "* Display *predict* button and *output image* in the center using `st.columns`"
   ]
  },
  {
   "cell_type": "code",
   "execution_count": null,
   "id": "e34b95e0-6029-4faa-8d08-21009341eb8a",
   "metadata": {},
   "outputs": [],
   "source": [
    "!streamlit run iris_dash.py"
   ]
  },
  {
   "cell_type": "code",
   "execution_count": null,
   "id": "a343365d-331c-4dea-ba16-a2aa8a568fa5",
   "metadata": {},
   "outputs": [],
   "source": [
    "sepal length = st.number_input(\n",
    "    \"Insert a number\", value=None, placeholder=\"Type a number...\"\n",
    ")\n",
    "st.write(\"The current number is \", sepal length)\n",
    "sepal width = st.number_input(\n",
    "    \"Insert a number\", value=None, placeholder=\"Type a number...\"\n",
    ")\n",
    "st.write(\"The current number is \", sepal width)\n",
    "\n",
    "petal length = st.number_input(\n",
    "    \"Insert a number\", value=None, placeholder=\"Type a number...\"\n",
    ")\n",
    "st.write(\"The current number is \", petal length)\n",
    "\n",
    "petal width = st.number_input(\n",
    "    \"Insert a number\", value=None, placeholder=\"Type a number...\"\n",
    ")\n",
    "st.write(\"The current number is \", petal width)"
   ]
  }
 ],
 "metadata": {
  "kernelspec": {
   "display_name": "Python 3 (ipykernel)",
   "language": "python",
   "name": "python3"
  },
  "language_info": {
   "codemirror_mode": {
    "name": "ipython",
    "version": 3
   },
   "file_extension": ".py",
   "mimetype": "text/x-python",
   "name": "python",
   "nbconvert_exporter": "python",
   "pygments_lexer": "ipython3",
   "version": "3.12.5"
  }
 },
 "nbformat": 4,
 "nbformat_minor": 5
}
